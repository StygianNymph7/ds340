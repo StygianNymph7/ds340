{
  "cells": [
    {
      "cell_type": "markdown",
      "metadata": {
        "id": "9qi0BzTf9Wdg"
      },
      "source": [
        "### NB-LogisticRegression\n",
        "[Source](https://www.kaggle.com/jhoward/nb-svm-strong-linear-baseline)"
      ]
    },
    {
      "cell_type": "code",
      "execution_count": null,
      "metadata": {
        "_cell_guid": "ef06cd19-66b6-46bc-bf45-184e12d3f7d4",
        "_uuid": "cca038ca9424a3f66e10262fc9129de807b5f855",
        "id": "6nnbOboW9Wdu"
      },
      "outputs": [],
      "source": [
        "import pandas as pd, numpy as np\n",
        "from sklearn.model_selection import train_test_split\n",
        "from sklearn.linear_model import LogisticRegression\n",
        "from sklearn.feature_extraction.text import CountVectorizer, TfidfVectorizer"
      ]
    },
    {
      "cell_type": "code",
      "execution_count": null,
      "metadata": {
        "id": "7khaytcm9Wdy"
      },
      "outputs": [],
      "source": [
        "encoded_label_dict = {\"CG\" : 0, \"OR\" : 1}\n",
        "def encode_label(x):\n",
        "    return encoded_label_dict.get(x,-1)"
      ]
    },
    {
      "cell_type": "code",
      "execution_count": null,
      "metadata": {
        "id": "nfJpZDeu9Wdz"
      },
      "outputs": [],
      "source": [
        "df = pd.read_csv(\"/new.csv\")"
      ]
    },
    {
      "cell_type": "code",
      "execution_count": null,
      "metadata": {
        "id": "FPY5w0AK9Wd0"
      },
      "outputs": [],
      "source": [
        "df[\"target\"] = df[\"label\"].apply(lambda x: encode_label(x))"
      ]
    },
    {
      "cell_type": "code",
      "execution_count": null,
      "metadata": {
        "_cell_guid": "a494f561-0c2f-4a38-8973-6b60c22da357",
        "_uuid": "f70ebe669fcf6b434c595cf6fb7a76120bf7809c",
        "id": "95665WlQ9Wd2"
      },
      "outputs": [],
      "source": [
        "train, test = train_test_split(df, test_size=0.2, shuffle=True, stratify=None, random_state=2021)"
      ]
    },
    {
      "cell_type": "code",
      "execution_count": null,
      "metadata": {
        "_cell_guid": "5ddb337b-c9b2-4fec-9652-cb26769dc3c6",
        "_uuid": "5f5269c56ea6ded273881b0d4dcdb6af83a3e089",
        "scrolled": true,
        "id": "jvAw0Yjw9Wd3",
        "outputId": "490b776a-e481-40a9-da6f-5fa6839f44bd",
        "colab": {
          "base_uri": "https://localhost:8080/",
          "height": 206
        }
      },
      "outputs": [
        {
          "output_type": "execute_result",
          "data": {
            "text/plain": [
              "          category  rating label  \\\n",
              "8394  Smartdevices       4    OR   \n",
              "3323  Smartdevices       4    OR   \n",
              "8960  Smartdevices       5    CG   \n",
              "6442  Smartdevices       3    CG   \n",
              "3176  Smartdevices       5    OR   \n",
              "\n",
              "                                                  text_  target  \n",
              "8394                   Voice recognition unable to make       1  \n",
              "3323    Product is good  But battery not lasting for...       1  \n",
              "8960                                       Very good TV       0  \n",
              "6442    Not a good android tv  The software is buggy...       0  \n",
              "3176                                      Check Ratings       1  "
            ],
            "text/html": [
              "\n",
              "  <div id=\"df-20d3e3f5-e4c9-444a-b218-9b90c73a2387\">\n",
              "    <div class=\"colab-df-container\">\n",
              "      <div>\n",
              "<style scoped>\n",
              "    .dataframe tbody tr th:only-of-type {\n",
              "        vertical-align: middle;\n",
              "    }\n",
              "\n",
              "    .dataframe tbody tr th {\n",
              "        vertical-align: top;\n",
              "    }\n",
              "\n",
              "    .dataframe thead th {\n",
              "        text-align: right;\n",
              "    }\n",
              "</style>\n",
              "<table border=\"1\" class=\"dataframe\">\n",
              "  <thead>\n",
              "    <tr style=\"text-align: right;\">\n",
              "      <th></th>\n",
              "      <th>category</th>\n",
              "      <th>rating</th>\n",
              "      <th>label</th>\n",
              "      <th>text_</th>\n",
              "      <th>target</th>\n",
              "    </tr>\n",
              "  </thead>\n",
              "  <tbody>\n",
              "    <tr>\n",
              "      <th>8394</th>\n",
              "      <td>Smartdevices</td>\n",
              "      <td>4</td>\n",
              "      <td>OR</td>\n",
              "      <td>Voice recognition unable to make</td>\n",
              "      <td>1</td>\n",
              "    </tr>\n",
              "    <tr>\n",
              "      <th>3323</th>\n",
              "      <td>Smartdevices</td>\n",
              "      <td>4</td>\n",
              "      <td>OR</td>\n",
              "      <td>Product is good  But battery not lasting for...</td>\n",
              "      <td>1</td>\n",
              "    </tr>\n",
              "    <tr>\n",
              "      <th>8960</th>\n",
              "      <td>Smartdevices</td>\n",
              "      <td>5</td>\n",
              "      <td>CG</td>\n",
              "      <td>Very good TV</td>\n",
              "      <td>0</td>\n",
              "    </tr>\n",
              "    <tr>\n",
              "      <th>6442</th>\n",
              "      <td>Smartdevices</td>\n",
              "      <td>3</td>\n",
              "      <td>CG</td>\n",
              "      <td>Not a good android tv  The software is buggy...</td>\n",
              "      <td>0</td>\n",
              "    </tr>\n",
              "    <tr>\n",
              "      <th>3176</th>\n",
              "      <td>Smartdevices</td>\n",
              "      <td>5</td>\n",
              "      <td>OR</td>\n",
              "      <td>Check Ratings</td>\n",
              "      <td>1</td>\n",
              "    </tr>\n",
              "  </tbody>\n",
              "</table>\n",
              "</div>\n",
              "      <button class=\"colab-df-convert\" onclick=\"convertToInteractive('df-20d3e3f5-e4c9-444a-b218-9b90c73a2387')\"\n",
              "              title=\"Convert this dataframe to an interactive table.\"\n",
              "              style=\"display:none;\">\n",
              "        \n",
              "  <svg xmlns=\"http://www.w3.org/2000/svg\" height=\"24px\"viewBox=\"0 0 24 24\"\n",
              "       width=\"24px\">\n",
              "    <path d=\"M0 0h24v24H0V0z\" fill=\"none\"/>\n",
              "    <path d=\"M18.56 5.44l.94 2.06.94-2.06 2.06-.94-2.06-.94-.94-2.06-.94 2.06-2.06.94zm-11 1L8.5 8.5l.94-2.06 2.06-.94-2.06-.94L8.5 2.5l-.94 2.06-2.06.94zm10 10l.94 2.06.94-2.06 2.06-.94-2.06-.94-.94-2.06-.94 2.06-2.06.94z\"/><path d=\"M17.41 7.96l-1.37-1.37c-.4-.4-.92-.59-1.43-.59-.52 0-1.04.2-1.43.59L10.3 9.45l-7.72 7.72c-.78.78-.78 2.05 0 2.83L4 21.41c.39.39.9.59 1.41.59.51 0 1.02-.2 1.41-.59l7.78-7.78 2.81-2.81c.8-.78.8-2.07 0-2.86zM5.41 20L4 18.59l7.72-7.72 1.47 1.35L5.41 20z\"/>\n",
              "  </svg>\n",
              "      </button>\n",
              "      \n",
              "  <style>\n",
              "    .colab-df-container {\n",
              "      display:flex;\n",
              "      flex-wrap:wrap;\n",
              "      gap: 12px;\n",
              "    }\n",
              "\n",
              "    .colab-df-convert {\n",
              "      background-color: #E8F0FE;\n",
              "      border: none;\n",
              "      border-radius: 50%;\n",
              "      cursor: pointer;\n",
              "      display: none;\n",
              "      fill: #1967D2;\n",
              "      height: 32px;\n",
              "      padding: 0 0 0 0;\n",
              "      width: 32px;\n",
              "    }\n",
              "\n",
              "    .colab-df-convert:hover {\n",
              "      background-color: #E2EBFA;\n",
              "      box-shadow: 0px 1px 2px rgba(60, 64, 67, 0.3), 0px 1px 3px 1px rgba(60, 64, 67, 0.15);\n",
              "      fill: #174EA6;\n",
              "    }\n",
              "\n",
              "    [theme=dark] .colab-df-convert {\n",
              "      background-color: #3B4455;\n",
              "      fill: #D2E3FC;\n",
              "    }\n",
              "\n",
              "    [theme=dark] .colab-df-convert:hover {\n",
              "      background-color: #434B5C;\n",
              "      box-shadow: 0px 1px 3px 1px rgba(0, 0, 0, 0.15);\n",
              "      filter: drop-shadow(0px 1px 2px rgba(0, 0, 0, 0.3));\n",
              "      fill: #FFFFFF;\n",
              "    }\n",
              "  </style>\n",
              "\n",
              "      <script>\n",
              "        const buttonEl =\n",
              "          document.querySelector('#df-20d3e3f5-e4c9-444a-b218-9b90c73a2387 button.colab-df-convert');\n",
              "        buttonEl.style.display =\n",
              "          google.colab.kernel.accessAllowed ? 'block' : 'none';\n",
              "\n",
              "        async function convertToInteractive(key) {\n",
              "          const element = document.querySelector('#df-20d3e3f5-e4c9-444a-b218-9b90c73a2387');\n",
              "          const dataTable =\n",
              "            await google.colab.kernel.invokeFunction('convertToInteractive',\n",
              "                                                     [key], {});\n",
              "          if (!dataTable) return;\n",
              "\n",
              "          const docLinkHtml = 'Like what you see? Visit the ' +\n",
              "            '<a target=\"_blank\" href=https://colab.research.google.com/notebooks/data_table.ipynb>data table notebook</a>'\n",
              "            + ' to learn more about interactive tables.';\n",
              "          element.innerHTML = '';\n",
              "          dataTable['output_type'] = 'display_data';\n",
              "          await google.colab.output.renderOutput(dataTable, element);\n",
              "          const docLink = document.createElement('div');\n",
              "          docLink.innerHTML = docLinkHtml;\n",
              "          element.appendChild(docLink);\n",
              "        }\n",
              "      </script>\n",
              "    </div>\n",
              "  </div>\n",
              "  "
            ]
          },
          "metadata": {},
          "execution_count": 50
        }
      ],
      "source": [
        "train.head()"
      ]
    },
    {
      "cell_type": "code",
      "execution_count": null,
      "metadata": {
        "_cell_guid": "9f6316e3-7e29-431b-abef-73acf4a08637",
        "_uuid": "b7b0d391248f929a026b16fc38936b7fc0176351",
        "id": "oyF9vPg29Wd7",
        "outputId": "1ee1b8b6-5c93-4bdc-e6d1-3bf47f33644b",
        "colab": {
          "base_uri": "https://localhost:8080/"
        }
      },
      "outputs": [
        {
          "output_type": "execute_result",
          "data": {
            "text/plain": [
              "(7546, 1887)"
            ]
          },
          "metadata": {},
          "execution_count": 51
        }
      ],
      "source": [
        "len(train),len(test)"
      ]
    },
    {
      "cell_type": "code",
      "execution_count": null,
      "metadata": {
        "_cell_guid": "fdba531c-7ef2-4967-88e2-fc2b04f6f2ef",
        "_uuid": "1e1229f403225f1889c7a7b4fc9be90fda818af5",
        "id": "XyjFvVRq9Wd9"
      },
      "outputs": [],
      "source": [
        "COMMENT = 'text_'\n",
        "train[COMMENT].fillna(\"unknown\", inplace=True)\n",
        "test[COMMENT].fillna(\"unknown\", inplace=True)"
      ]
    },
    {
      "cell_type": "markdown",
      "metadata": {
        "_cell_guid": "480780f1-00c0-4f9a-81e5-fc1932516a80",
        "_uuid": "f2e77e8e6df5e29b620c7a2a0add1438c35af932",
        "id": "H4va2lDa9Wd_"
      },
      "source": [
        "## Building the model\n",
        "\n",
        "We'll start by creating a *bag of words* representation, as a *term document matrix*. We'll use ngrams, as suggested in the NBSVM paper."
      ]
    },
    {
      "cell_type": "code",
      "execution_count": null,
      "metadata": {
        "_cell_guid": "b7f11db7-5c12-4eb8-9f2d-0323d629fed9",
        "_uuid": "b043a3fb66c443fab0129e863c134ec813dadb87",
        "id": "qUWKsRJE9WeA"
      },
      "outputs": [],
      "source": [
        "import re, string\n",
        "re_tok = re.compile(f'([{string.punctuation}“”¨«»®´·º½¾¿¡§£₤‘’])')\n",
        "def tokenize(s): return re_tok.sub(r' \\1 ', s).split()"
      ]
    },
    {
      "cell_type": "markdown",
      "metadata": {
        "_cell_guid": "bfdebf11-133c-4b12-8664-8bf64757d6cc",
        "_uuid": "941759df15c71d42853515e4d1006f4ab000ce75",
        "id": "TROh19nt9WeG"
      },
      "source": [
        "It turns out that using TF-IDF gives even better priors than the binarized features used in the paper. I don't think this has been mentioned in any paper before, but it improves leaderboard score from 0.59 to 0.55."
      ]
    },
    {
      "cell_type": "code",
      "execution_count": null,
      "metadata": {
        "_cell_guid": "31ad6c98-d054-426c-b3bd-b3b18f52eb6f",
        "_uuid": "75f3f27d56fb2d7d539e65c292d9e77c92ceead3",
        "id": "A4LY-dGk9WeI"
      },
      "outputs": [],
      "source": [
        "n = train.shape[0]\n",
        "vec = TfidfVectorizer(ngram_range=(1,2), tokenizer=tokenize,\n",
        "               min_df=3, max_df=0.9, strip_accents='unicode', use_idf=1,\n",
        "               smooth_idf=1, sublinear_tf=1 )\n",
        "trn_term_doc = vec.fit_transform(train[COMMENT])\n",
        "test_term_doc = vec.transform(test[COMMENT])"
      ]
    },
    {
      "cell_type": "markdown",
      "metadata": {
        "_cell_guid": "4cf3ec26-8237-452b-90c9-831cb0297955",
        "_uuid": "6d215bc460e64d88b08f501d5c5a67c290e40635",
        "id": "0T7bQVUp9WeJ"
      },
      "source": [
        "This creates a *sparse matrix* with only a small number of non-zero elements (*stored elements* in the representation  below)."
      ]
    },
    {
      "cell_type": "code",
      "execution_count": null,
      "metadata": {
        "_cell_guid": "4c7bdbcc-4451-4477-944c-772e99bac777",
        "_uuid": "8816cc35f66b9fed9c12978fbdef5bb68fae10f4",
        "id": "umnx89vq9WeK",
        "outputId": "61d57cca-7bae-4421-8e1c-74e93a9d6260",
        "colab": {
          "base_uri": "https://localhost:8080/"
        }
      },
      "outputs": [
        {
          "output_type": "execute_result",
          "data": {
            "text/plain": [
              "(<7546x14107 sparse matrix of type '<class 'numpy.float64'>'\n",
              " \twith 267651 stored elements in Compressed Sparse Row format>,\n",
              " <1887x14107 sparse matrix of type '<class 'numpy.float64'>'\n",
              " \twith 64796 stored elements in Compressed Sparse Row format>)"
            ]
          },
          "metadata": {},
          "execution_count": 55
        }
      ],
      "source": [
        "trn_term_doc, test_term_doc"
      ]
    },
    {
      "cell_type": "markdown",
      "metadata": {
        "_cell_guid": "59131479-a861-4f46-add9-b2af09a51976",
        "_uuid": "5fc487461f4c6fdaea25f2cd471fc801856c6689",
        "id": "RCaYMVI99WeL"
      },
      "source": [
        "Here's the basic naive bayes feature equation:"
      ]
    },
    {
      "cell_type": "code",
      "execution_count": null,
      "metadata": {
        "_cell_guid": "45fc6070-ba13-455b-9274-5c2611e2809c",
        "_uuid": "8b277f01cecd575ed4fcae2e630c0dd8ce979793",
        "id": "reiaK2ux9WeM"
      },
      "outputs": [],
      "source": [
        "def pr(y_i, y):\n",
        "    p = x[y==y_i].sum(0)\n",
        "    return (p+1) / ((y==y_i).sum()+1)"
      ]
    },
    {
      "cell_type": "code",
      "execution_count": null,
      "metadata": {
        "_cell_guid": "2299d24b-5515-4d37-92d9-e7f6b16a290a",
        "_uuid": "926eaa2e40e588f4ef2b86e0a28f8e575c9ed5f4",
        "id": "lfMhxcsG9WeO"
      },
      "outputs": [],
      "source": [
        "x = trn_term_doc\n",
        "test_x = test_term_doc"
      ]
    },
    {
      "cell_type": "markdown",
      "metadata": {
        "_cell_guid": "c0b494ac-0dfc-4faa-a909-0a6d7696d1fc",
        "_uuid": "dc5cafeab86d17ac4f036d58658437636a885a87",
        "id": "uuY3Ufb29WeQ"
      },
      "source": [
        "Fit a model for one dependent at a time:"
      ]
    },
    {
      "cell_type": "code",
      "execution_count": null,
      "metadata": {
        "_cell_guid": "b756c889-a383-4952-9ee9-eca79fd3454f",
        "_uuid": "8652ab2f5f84e77fa395252be9b60be1e44fd583",
        "id": "VNpWKmwx9WeQ"
      },
      "outputs": [],
      "source": [
        "def get_mdl(y):\n",
        "    y = y.values\n",
        "    r = np.log(pr(1,y) / pr(0,y))\n",
        "    m = LogisticRegression(C=4)\n",
        "    x_nb = x.multiply(r)\n",
        "    return m.fit(x_nb, y), r"
      ]
    },
    {
      "cell_type": "code",
      "execution_count": null,
      "metadata": {
        "id": "nH6EhT6s9WeR"
      },
      "outputs": [],
      "source": [
        "m,r = get_mdl(train[\"target\"])\n",
        "preds_probas = m.predict_proba(test_x.multiply(r))[:,1]"
      ]
    },
    {
      "cell_type": "code",
      "execution_count": null,
      "metadata": {
        "id": "2MtAH05V9WeS"
      },
      "outputs": [],
      "source": [
        "preds = [1 if prob>=0.5 else 0 for prob in preds_probas]"
      ]
    },
    {
      "cell_type": "code",
      "execution_count": null,
      "metadata": {
        "id": "HLpb5G_T9WeT",
        "outputId": "656670d4-c1d3-4ca2-8a15-9dea0b10cc3e",
        "colab": {
          "base_uri": "https://localhost:8080/"
        }
      },
      "outputs": [
        {
          "output_type": "execute_result",
          "data": {
            "text/plain": [
              "array([[884, 183],\n",
              "       [ 72, 748]])"
            ]
          },
          "metadata": {},
          "execution_count": 61
        }
      ],
      "source": [
        "from sklearn.metrics import confusion_matrix\n",
        "y_true = test.target.values\n",
        "y_pred = preds\n",
        "confusion_matrix(y_true,y_pred)"
      ]
    },
    {
      "cell_type": "code",
      "execution_count": null,
      "metadata": {
        "id": "woBKtI9z9WeU"
      },
      "outputs": [],
      "source": [
        "from sklearn.metrics import accuracy_score, precision_score, recall_score, classification_report\n",
        "acc = accuracy_score(y_true,y_pred)\n",
        "precision = precision_score(y_true,y_pred)\n",
        "recall = recall_score(y_true,y_pred)"
      ]
    },
    {
      "cell_type": "code",
      "execution_count": null,
      "metadata": {
        "id": "zhX5zf3Z9WeV",
        "outputId": "8bb0ef8c-4e0c-4b6a-fbea-9daa095377f4",
        "colab": {
          "base_uri": "https://localhost:8080/"
        }
      },
      "outputs": [
        {
          "output_type": "stream",
          "name": "stdout",
          "text": [
            "Accuracy: 86.48648648648648; Precision:80.343716433942; Recall:91.21951219512195\n"
          ]
        }
      ],
      "source": [
        "print(f\"Accuracy: {acc*100}; Precision:{precision*100}; Recall:{recall*100}\")"
      ]
    },
    {
      "cell_type": "code",
      "execution_count": null,
      "metadata": {
        "id": "wT5U7LXn9WeW",
        "outputId": "f02b061b-66ee-4702-fdc2-f37877ebe5d5",
        "colab": {
          "base_uri": "https://localhost:8080/"
        }
      },
      "outputs": [
        {
          "output_type": "stream",
          "name": "stdout",
          "text": [
            "              precision    recall  f1-score   support\n",
            "\n",
            "          CG       0.92      0.83      0.87      1067\n",
            "          OR       0.80      0.91      0.85       820\n",
            "\n",
            "    accuracy                           0.86      1887\n",
            "   macro avg       0.86      0.87      0.86      1887\n",
            "weighted avg       0.87      0.86      0.87      1887\n",
            "\n"
          ]
        }
      ],
      "source": [
        "print(classification_report(y_true, y_pred, target_names=[\"CG\",\"OR\"]))"
      ]
    },
    {
      "cell_type": "code",
      "execution_count": null,
      "metadata": {
        "id": "cpVFBygq9WeY"
      },
      "outputs": [],
      "source": [
        "preds_df_rows = []\n",
        "for i, row in test.reset_index().iterrows():\n",
        "    query = row[\"text_\"]\n",
        "    pred_prob = preds_probas[i]\n",
        "    pred_label = preds[i]\n",
        "    preds_df_rows.append([pred_prob,pred_label])\n",
        "preds_df = pd.DataFrame(preds_df_rows, columns=[\"NbLogReg_Model_Probability\",\"NbLogReg_Model_Prediction\"])"
      ]
    },
    {
      "cell_type": "code",
      "execution_count": null,
      "metadata": {
        "id": "bJcGI5aV9WeY"
      },
      "outputs": [],
      "source": [
        "preds_df.to_csv(\"/NbLogReg_predictions2.csv\", index=None)"
      ]
    },
    {
      "cell_type": "code",
      "execution_count": null,
      "metadata": {
        "_cell_guid": "1c345d02-b768-491c-8c03-8c3459a552a8",
        "_uuid": "adbbfb0156952a6a43833e337b8a418ccac257aa",
        "id": "kjMQ0e8i9WeZ"
      },
      "outputs": [],
      "source": [
        ""
      ]
    }
  ],
  "metadata": {
    "kernelspec": {
      "display_name": "Python 3",
      "language": "python",
      "name": "python3"
    },
    "language_info": {
      "codemirror_mode": {
        "name": "ipython",
        "version": 3
      },
      "file_extension": ".py",
      "mimetype": "text/x-python",
      "name": "python",
      "nbconvert_exporter": "python",
      "pygments_lexer": "ipython3",
      "version": "3.7.9"
    },
    "colab": {
      "name": "“3_nb-svm-strong-linear-baseline.ipynb”的副本",
      "provenance": []
    }
  },
  "nbformat": 4,
  "nbformat_minor": 0
}
