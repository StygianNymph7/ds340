{
  "nbformat": 4,
  "nbformat_minor": 0,
  "metadata": {
    "colab": {
      "name": "Untitled0.ipynb",
      "provenance": []
    },
    "kernelspec": {
      "name": "python3",
      "display_name": "Python 3"
    },
    "language_info": {
      "name": "python"
    }
  },
  "cells": [
    {
      "cell_type": "code",
      "execution_count": 4,
      "metadata": {
        "id": "BHjXmPRO_Bab"
      },
      "outputs": [],
      "source": [
        "import pandas as pd"
      ]
    },
    {
      "cell_type": "code",
      "source": [
        "new = pd.read_csv('/new.csv')"
      ],
      "metadata": {
        "id": "CYDn2L6o_M5u"
      },
      "execution_count": 9,
      "outputs": []
    },
    {
      "cell_type": "code",
      "source": [
        "print(new)"
      ],
      "metadata": {
        "colab": {
          "base_uri": "https://localhost:8080/"
        },
        "id": "NJ31HFK7AOf9",
        "outputId": "99e949a9-a4fd-4301-a067-d08d9bff0034"
      },
      "execution_count": 10,
      "outputs": [
        {
          "output_type": "stream",
          "name": "stdout",
          "text": [
            "          category  rating label  \\\n",
            "0     Smartdevices       5    OR   \n",
            "1     Smartdevices       4    OR   \n",
            "2     Smartdevices       5    OR   \n",
            "3     Smartdevices       1    OR   \n",
            "4     Smartdevices       2    CG   \n",
            "...            ...     ...   ...   \n",
            "9428  Smartdevices       5    OR   \n",
            "9429  Smartdevices       5    CG   \n",
            "9430  Smartdevices       5    CG   \n",
            "9431  Smartdevices       4    CG   \n",
            "9432  Smartdevices       4    OR   \n",
            "\n",
            "                                                  text_  \n",
            "0       A really awesome keyboard  i was actually go...  \n",
            "1       I know its costly but its worth your money  ...  \n",
            "2       I had been contemplating to buy this for a l...  \n",
            "3       SO   Very very small keys  For fast typers w...  \n",
            "4       Good to use keyboard while it is new  but it...  \n",
            "...                                                 ...  \n",
            "9428              I have using all products of one plus  \n",
            "9429    Everything is excellent but jio cinema not a...  \n",
            "9430                                         Excellent   \n",
            "9431                                       I liked this  \n",
            "9432         Best Tv for good price  Thanks for OnePlus  \n",
            "\n",
            "[9433 rows x 4 columns]\n"
          ]
        }
      ]
    },
    {
      "cell_type": "code",
      "source": [
        "new0=new.loc[new['label'] == 'CG']\n",
        "new1=new.loc[new['label'] == 'OR']"
      ],
      "metadata": {
        "id": "D6f7Pczl_NB-"
      },
      "execution_count": 12,
      "outputs": []
    },
    {
      "cell_type": "code",
      "source": [
        "finalnew0=new0.sample(n=1800)\n",
        "finalnew1=new1.sample(n=1800)"
      ],
      "metadata": {
        "id": "8sy1NoND_NF4"
      },
      "execution_count": 15,
      "outputs": []
    },
    {
      "cell_type": "code",
      "source": [
        "newx=pd.concat([finalnew0,finalnew1])\n",
        "print(newx)"
      ],
      "metadata": {
        "colab": {
          "base_uri": "https://localhost:8080/"
        },
        "id": "1_TJ5_82_NIc",
        "outputId": "520f5480-a224-431c-edb4-439ba2b2693e"
      },
      "execution_count": 16,
      "outputs": [
        {
          "output_type": "stream",
          "name": "stdout",
          "text": [
            "          category  rating label  \\\n",
            "2838  Smartdevices       4    CG   \n",
            "8577  Smartdevices       5    CG   \n",
            "2503  Smartdevices       5    CG   \n",
            "2747  Smartdevices       3    CG   \n",
            "2383  Smartdevices       5    CG   \n",
            "...            ...     ...   ...   \n",
            "7907  Smartdevices       1    OR   \n",
            "1112  Smartdevices       1    OR   \n",
            "8721  Smartdevices       5    OR   \n",
            "4667  Smartdevices       5    OR   \n",
            "8259  Smartdevices       5    OR   \n",
            "\n",
            "                                                  text_  \n",
            "2838             Battery  backup and connectivity good   \n",
            "8577                                      Very good tv   \n",
            "2503           Is really good and I have get very nice   \n",
            "2747    Can be used for checking time  Accuracy leve...  \n",
            "2383    So cool product  charging is too gud  loved ...  \n",
            "...                                                 ...  \n",
            "7907    Low picture quality n good voice recognition...  \n",
            "1112    This waste of money productI purchased this ...  \n",
            "8721                            I got defective product  \n",
            "4667                                                 Ok  \n",
            "8259          Its feature and function running smoothly  \n",
            "\n",
            "[3600 rows x 4 columns]\n"
          ]
        }
      ]
    },
    {
      "cell_type": "code",
      "source": [
        "oridata = pd.read_csv('/oridata.csv')\n",
        "print(oridata)"
      ],
      "metadata": {
        "colab": {
          "base_uri": "https://localhost:8080/"
        },
        "id": "yYT2_A1DBkR-",
        "outputId": "03402529-b4c3-4bdd-acf4-cb8c0973f14d"
      },
      "execution_count": 19,
      "outputs": [
        {
          "output_type": "stream",
          "name": "stdout",
          "text": [
            "                           category  rating label  \\\n",
            "0                Home_and_Kitchen_5       5    CG   \n",
            "1                Home_and_Kitchen_5       5    CG   \n",
            "2                Home_and_Kitchen_5       5    CG   \n",
            "3                Home_and_Kitchen_5       1    CG   \n",
            "4                Home_and_Kitchen_5       5    CG   \n",
            "...                             ...     ...   ...   \n",
            "40427  Clothing_Shoes_and_Jewelry_5       4    OR   \n",
            "40428  Clothing_Shoes_and_Jewelry_5       5    CG   \n",
            "40429  Clothing_Shoes_and_Jewelry_5       2    OR   \n",
            "40430  Clothing_Shoes_and_Jewelry_5       1    CG   \n",
            "40431  Clothing_Shoes_and_Jewelry_5       5    OR   \n",
            "\n",
            "                                                   text_  \n",
            "0      Love this!  Well made, sturdy, and very comfor...  \n",
            "1      love it, a great upgrade from the original.  I...  \n",
            "2      This pillow saved my back. I love the look and...  \n",
            "3      Missing information on how to use it, but it i...  \n",
            "4      Very nice set. Good quality. We have had the s...  \n",
            "...                                                  ...  \n",
            "40427  I had read some reviews saying that this bra r...  \n",
            "40428  I wasn't sure exactly what it would be. It is ...  \n",
            "40429  You can wear the hood by itself, wear it with ...  \n",
            "40430  I liked nothing about this dress. The only rea...  \n",
            "40431  I work in the wedding industry and have to wor...  \n",
            "\n",
            "[40432 rows x 4 columns]\n"
          ]
        }
      ]
    },
    {
      "cell_type": "code",
      "source": [
        "final=pd.concat([oridata,newx])\n",
        "print(final)"
      ],
      "metadata": {
        "colab": {
          "base_uri": "https://localhost:8080/"
        },
        "id": "zqSIGr01CLNL",
        "outputId": "e55cdbda-1476-4dbb-cdb1-761ec61b825d"
      },
      "execution_count": 20,
      "outputs": [
        {
          "output_type": "stream",
          "name": "stdout",
          "text": [
            "                category  rating label  \\\n",
            "0     Home_and_Kitchen_5       5    CG   \n",
            "1     Home_and_Kitchen_5       5    CG   \n",
            "2     Home_and_Kitchen_5       5    CG   \n",
            "3     Home_and_Kitchen_5       1    CG   \n",
            "4     Home_and_Kitchen_5       5    CG   \n",
            "...                  ...     ...   ...   \n",
            "7907        Smartdevices       1    OR   \n",
            "1112        Smartdevices       1    OR   \n",
            "8721        Smartdevices       5    OR   \n",
            "4667        Smartdevices       5    OR   \n",
            "8259        Smartdevices       5    OR   \n",
            "\n",
            "                                                  text_  \n",
            "0     Love this!  Well made, sturdy, and very comfor...  \n",
            "1     love it, a great upgrade from the original.  I...  \n",
            "2     This pillow saved my back. I love the look and...  \n",
            "3     Missing information on how to use it, but it i...  \n",
            "4     Very nice set. Good quality. We have had the s...  \n",
            "...                                                 ...  \n",
            "7907    Low picture quality n good voice recognition...  \n",
            "1112    This waste of money productI purchased this ...  \n",
            "8721                            I got defective product  \n",
            "4667                                                 Ok  \n",
            "8259          Its feature and function running smoothly  \n",
            "\n",
            "[44032 rows x 4 columns]\n"
          ]
        }
      ]
    },
    {
      "cell_type": "code",
      "source": [
        "final.to_csv(\"/data2.csv\",index = False)"
      ],
      "metadata": {
        "id": "xCPWQMlLCLV7"
      },
      "execution_count": 22,
      "outputs": []
    }
  ]
}
